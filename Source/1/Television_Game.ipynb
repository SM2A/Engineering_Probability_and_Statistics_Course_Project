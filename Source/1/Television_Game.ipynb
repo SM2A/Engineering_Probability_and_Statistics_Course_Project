{
 "cells": [
  {
   "cell_type": "markdown",
   "id": "657948ff",
   "metadata": {},
   "source": [
    "# Television Game\n",
    "First we define how many times to run simulation (in our case we simulate with groups of 10, 100, 1000, and 10000 people).\n",
    "Then run simulation for each group size and try to mimic their choice using random numer and count number of winners.\n",
    "At the end we use data from simulation and bring them to \"matplotlib\" library using \"numpy\" library and show the final plot.\n"
   ]
  },
  {
   "cell_type": "code",
   "execution_count": 1,
   "id": "767bdbad",
   "metadata": {},
   "outputs": [
    {
     "data": {
      "image/png": "[encoded data removed]",
      "text/plain": [
       "<Figure size 432x288 with 1 Axes>"
      ]
     },
     "metadata": {
      "needs_background": "light"
     },
     "output_type": "display_data"
    }
   ],
   "source": [
    "import numpy\n",
    "import random\n",
    "from matplotlib import pyplot\n",
    "\n",
    "labels = ['10', '100', '1000', '10000']\n",
    "simulation_values = [10, 100, 1000, 10000]\n",
    "x = numpy.arange(len(labels))\n",
    "data = [[0 for a in range(len(simulation_values))] for b in range(3)]\n",
    "\n",
    "for i in range(len(simulation_values)):\n",
    "\n",
    "    for _ in range(simulation_values[i]):\n",
    "        door = [False, False, False]\n",
    "        prize = random.randint(0, 2)\n",
    "        door[prize] = True\n",
    "        selection = [0, 1, 2]\n",
    "        player_choice = random.choice(selection)\n",
    "        selection.remove(player_choice)\n",
    "        instructor_choice = random.choice(selection)\n",
    "        while door[instructor_choice]:\n",
    "            instructor_choice = random.choice(selection)\n",
    "        selection.remove(instructor_choice)\n",
    "        if door[player_choice]:\n",
    "            data[0][i] += 1\n",
    "\n",
    "    for _ in range(simulation_values[i]):\n",
    "        door = [False, False, False]\n",
    "        prize = random.randint(0, 2)\n",
    "        door[prize] = True\n",
    "        selection = [0, 1, 2]\n",
    "        player_choice = random.choice(selection)\n",
    "        selection.remove(player_choice)\n",
    "        instructor_choice = random.choice(selection)\n",
    "        while door[instructor_choice]:\n",
    "            instructor_choice = random.choice(selection)\n",
    "        selection.remove(instructor_choice)\n",
    "        player_choice = random.choice(selection)\n",
    "        if door[player_choice]:\n",
    "            data[1][i] += 1\n",
    "\n",
    "    for _ in range(simulation_values[i]):\n",
    "        door = [False, False, False]\n",
    "        prize = random.randint(0, 2)\n",
    "        door[prize] = True\n",
    "        selection = [0, 1, 2]\n",
    "        player_choice = random.choice(selection)\n",
    "        selection.remove(player_choice)\n",
    "        instructor_choice = random.choice(selection)\n",
    "        while door[instructor_choice]:\n",
    "            instructor_choice = random.choice(selection)\n",
    "        selection.remove(instructor_choice)\n",
    "        change = int(random.uniform(0, 2))\n",
    "        if (change % 2) == 1:\n",
    "            player_choice = random.choice(selection)\n",
    "        if door[player_choice]:\n",
    "            data[2][i] += 1\n",
    "\n",
    "width = 0.6\n",
    "\n",
    "fig, ax = pyplot.subplots()\n",
    "rect1 = ax.bar(x - width / 2, data[0], 0.3, label='First Group')\n",
    "rect2 = ax.bar(x, data[1], 0.3, label='Second Group')\n",
    "rect3 = ax.bar(x + width / 2, data[2], 0.3, label='Third Group')\n",
    "\n",
    "ax.set_xlabel('Number of People')\n",
    "ax.set_ylabel('Number of Winners')\n",
    "ax.set_title('Number of Winners With Different Group Size')\n",
    "ax.set_xticks(x)\n",
    "ax.set_xticklabels(labels)\n",
    "ax.legend()\n",
    "\n",
    "ax.bar_label(rect1, padding=3)\n",
    "ax.bar_label(rect2, padding=3)\n",
    "ax.bar_label(rect3, padding=3)\n",
    "\n",
    "fig.tight_layout()\n",
    "\n",
    "pyplot.show()"
   ]
  }
 ],
 "metadata": {
  "kernelspec": {
   "display_name": "Python 3",
   "language": "python",
   "name": "python3"
  },
  "language_info": {
   "codemirror_mode": {
    "name": "ipython",
    "version": 3
   },
   "file_extension": ".py",
   "mimetype": "text/x-python",
   "name": "python",
   "nbconvert_exporter": "python",
   "pygments_lexer": "ipython3",
   "version": "3.8.10"
  }
 },
 "nbformat": 4,
 "nbformat_minor": 5
}
